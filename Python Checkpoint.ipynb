{
 "cells": [
  {
   "cell_type": "code",
   "execution_count": 2,
   "id": "70c84285",
   "metadata": {},
   "outputs": [
    {
     "name": "stdout",
     "output_type": "stream",
     "text": [
      "[2030, 2065, 2100, 2135, 2170, 2205, 2240, 2275, 2310, 2345, 2380, 2415, 2450, 2485, 2520, 2555, 2590, 2625, 2660, 2695, 2730, 2765, 2800, 2835, 2870, 2905, 2940, 2975, 3010, 3045, 3080, 3115, 3150, 3185]\n"
     ]
    }
   ],
   "source": [
    "c=[]\n",
    "for i in range(2000,3201):\n",
    "    if (i%7==0) and (i%5==0):\n",
    "       c.append(i)\n",
    "print(c)\n",
    "    "
   ]
  },
  {
   "cell_type": "code",
   "execution_count": 4,
   "id": "23824eae",
   "metadata": {},
   "outputs": [
    {
     "name": "stdout",
     "output_type": "stream",
     "text": [
      "please give a number5\n",
      "the factorial is: 120\n"
     ]
    }
   ],
   "source": [
    "fact=1\n",
    "n=int(input(\"please give a number\"))\n",
    "if(n<0):\n",
    "    print(\"Sorry no fact\")\n",
    "elif n==0:\n",
    "    print(\"the factorial is 1\")\n",
    "else :\n",
    "    for i in range (1,n+1):\n",
    "        fact=fact*i\n",
    "    print(\"the factorial is:\",fact)"
   ]
  },
  {
   "cell_type": "code",
   "execution_count": 5,
   "id": "8c956f48",
   "metadata": {},
   "outputs": [
    {
     "name": "stdout",
     "output_type": "stream",
     "text": [
      "give a number8\n"
     ]
    },
    {
     "data": {
      "text/plain": [
       "{1: 1, 2: 4, 3: 9, 4: 16, 5: 25, 6: 36, 7: 49, 8: 64}"
      ]
     },
     "execution_count": 5,
     "metadata": {},
     "output_type": "execute_result"
    }
   ],
   "source": [
    "n=int(input(\"give a number\"))\n",
    "d={}\n",
    "for i in range (1,n+1):\n",
    "    d[i]=i*i\n",
    "d"
   ]
  },
  {
   "cell_type": "code",
   "execution_count": 8,
   "id": "cccdc048",
   "metadata": {},
   "outputs": [
    {
     "name": "stdout",
     "output_type": "stream",
     "text": [
      "give a string : \n",
      "give a string : hello \n",
      "give a number : 3\n",
      "helo \n"
     ]
    }
   ],
   "source": [
    "c=\"\"\n",
    "l=[]\n",
    "ch=input(\"give a string : \")\n",
    "while ch==\"\":\n",
    "      ch=input(\"give a string : \")\n",
    "else:\n",
    "    it=int(input(\"give a number : \"))\n",
    "    for i in range (len(ch)):\n",
    "        if i==it:\n",
    "            l=list(ch)\n",
    "            del(l[i])\n",
    "    for i in range (len(l)):\n",
    "        c=c+l[i]\n",
    "        \n",
    "print (c)\n",
    "    "
   ]
  },
  {
   "cell_type": "code",
   "execution_count": 10,
   "id": "7cde556d",
   "metadata": {},
   "outputs": [
    {
     "name": "stdout",
     "output_type": "stream",
     "text": [
      "[[0, 1], [2, 3], [4, 5]]\n"
     ]
    }
   ],
   "source": [
    "import numpy as np \n",
    "mylist=[]\n",
    "tab=np.array([[0,1],[2,3],[4,5]])\n",
    "x=tab.shape\n",
    "for i in range (tab.shape[0]):\n",
    "    l=[]\n",
    "    for j in range (tab.shape[1]):\n",
    "        l.append(tab[i][j])\n",
    "    mylist.append(l)\n",
    "print(mylist)\n",
    "            "
   ]
  },
  {
   "cell_type": "code",
   "execution_count": 11,
   "id": "5f1db193",
   "metadata": {},
   "outputs": [
    {
     "data": {
      "text/plain": [
       "array([[ 1., -1.],\n",
       "       [-1.,  1.]])"
      ]
     },
     "execution_count": 11,
     "metadata": {},
     "output_type": "execute_result"
    }
   ],
   "source": [
    "tab=np.array([[0,1,2]])\n",
    "tab1=np.array([[2,1,0]])\n",
    "np.cov(tab,tab1)"
   ]
  },
  {
   "cell_type": "code",
   "execution_count": 12,
   "id": "94ad6e1d",
   "metadata": {},
   "outputs": [
    {
     "name": "stdout",
     "output_type": "stream",
     "text": [
      "enter the numbers separated with commas: 100,150,180\n"
     ]
    },
    {
     "data": {
      "text/plain": [
       "[18, 22, 24]"
      ]
     },
     "execution_count": 12,
     "metadata": {},
     "output_type": "execute_result"
    }
   ],
   "source": [
    "txt= input(\"enter the numbers separated with commas: \")\n",
    "s= txt.split(\",\")\n",
    "\n",
    "def qformula(l):\n",
    "    listint=[]\n",
    "    for j in range(len(l)):\n",
    "           listint.append(int(l[j]))\n",
    "    listnew=[]\n",
    "    c=50\n",
    "    h=30\n",
    "    for i in range(len(listint)):\n",
    "        result= round (((2*c*listint[i])/h)**(1/2))\n",
    "        listnew.append(result)\n",
    "    return listnew\n",
    "qformula(s)"
   ]
  },
  {
   "cell_type": "code",
   "execution_count": 13,
   "id": "a393556e",
   "metadata": {},
   "outputs": [
    {
     "name": "stdout",
     "output_type": "stream",
     "text": [
      "[[0, 1, 2]]\n"
     ]
    }
   ],
   "source": [
    "tab=np.array([[0,1,2]])\n",
    "print(tab.tolist())"
   ]
  }
 ],
 "metadata": {
  "kernelspec": {
   "display_name": "Python 3 (ipykernel)",
   "language": "python",
   "name": "python3"
  },
  "language_info": {
   "codemirror_mode": {
    "name": "ipython",
    "version": 3
   },
   "file_extension": ".py",
   "mimetype": "text/x-python",
   "name": "python",
   "nbconvert_exporter": "python",
   "pygments_lexer": "ipython3",
   "version": "3.9.12"
  }
 },
 "nbformat": 4,
 "nbformat_minor": 5
}
